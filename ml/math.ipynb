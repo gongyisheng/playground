{
 "cells": [
  {
   "cell_type": "markdown",
   "metadata": {},
   "source": [
    "# Math related"
   ]
  },
  {
   "cell_type": "code",
   "execution_count": 3,
   "metadata": {},
   "outputs": [
    {
     "name": "stdout",
     "output_type": "stream",
     "text": [
      "Iteration 1: x = 8.0, f(x) = 64.0\n",
      "Iteration 2: x = 6.4, f(x) = 40.96000000000001\n",
      "Iteration 3: x = 5.12, f(x) = 26.2144\n",
      "Iteration 4: x = 4.096, f(x) = 16.777216\n",
      "Iteration 5: x = 3.2768, f(x) = 10.73741824\n",
      "Iteration 6: x = 2.62144, f(x) = 6.871947673600001\n",
      "Iteration 7: x = 2.0971520000000003, f(x) = 4.398046511104002\n",
      "Iteration 8: x = 1.6777216000000004, f(x) = 2.8147497671065613\n",
      "Iteration 9: x = 1.3421772800000003, f(x) = 1.801439850948199\n",
      "Iteration 10: x = 1.0737418240000003, f(x) = 1.1529215046068475\n"
     ]
    }
   ],
   "source": [
    "# gradient descent\n",
    "# minimize function: f(x) = x^2\n",
    "# should converge to 0\n",
    "\n",
    "def minimize(iter, learning_rate, start_point):\n",
    "    x = start_point\n",
    "    for i in range(iter):\n",
    "        gradient = 2 * x  # derivative of f(x) = x^2\n",
    "        x = x - learning_rate * gradient\n",
    "        print(f\"Iteration {i+1}: x = {x}, f(x) = {x**2}\")\n",
    "    return x\n",
    "\n",
    "# Example usage\n",
    "minimize(10, 0.1, 10)"
   ]
  },
  {
   "cell_type": "code",
   "execution_count": 9,
   "metadata": {},
   "outputs": [
    {
     "name": "stdout",
     "output_type": "stream",
     "text": [
      "0.0\n",
      "0.0\n"
     ]
    },
    {
     "name": "stderr",
     "output_type": "stream",
     "text": [
      "/var/folders/sr/0sxl_6_x3b91b7yknmdxygm80000gp/T/ipykernel_84345/3249953490.py:12: RuntimeWarning: overflow encountered in exp\n",
      "  return 1/(1+np.exp(-x))\n"
     ]
    }
   ],
   "source": [
    "# Numerical overflow\n",
    "import numpy as np\n",
    "\n",
    "# Sigmoid function\n",
    "# can be written in two ways:\n",
    "# 1. 1/(1+exp(-x))\n",
    "# 2. exp(x)/(1+exp(x))\n",
    "# Each one takes care of overflow for big positive and negative numbers\n",
    "# Need to combine them to avoid overflow\n",
    "\n",
    "def sigmod_unstable(x):\n",
    "    return 1/(1+np.exp(-x))\n",
    "\n",
    "def sigmod_stable(x):\n",
    "    if x < 0:\n",
    "        return np.exp(x)/(1+np.exp(x))\n",
    "    else:\n",
    "        return 1/(1+np.exp(-x))\n",
    "# Example usage\n",
    "n = -100000000000\n",
    "print(sigmod_unstable(n))  # This may cause overflow\n",
    "print(sigmod_stable(n))  # This should work fine"
   ]
  }
 ],
 "metadata": {
  "kernelspec": {
   "display_name": "Python 3",
   "language": "python",
   "name": "python3"
  },
  "language_info": {
   "codemirror_mode": {
    "name": "ipython",
    "version": 3
   },
   "file_extension": ".py",
   "mimetype": "text/x-python",
   "name": "python",
   "nbconvert_exporter": "python",
   "pygments_lexer": "ipython3",
   "version": "3.8.10"
  }
 },
 "nbformat": 4,
 "nbformat_minor": 2
}
