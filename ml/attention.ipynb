{
 "cells": [
  {
   "cell_type": "markdown",
   "metadata": {},
   "source": [
    "## Attention"
   ]
  },
  {
   "cell_type": "code",
   "execution_count": 1,
   "metadata": {},
   "outputs": [],
   "source": [
    "import torch\n",
    "import torch.nn as nn\n",
    "import torch.optim as optim\n",
    "import numpy as np\n",
    "import matplotlib.pyplot as plt"
   ]
  },
  {
   "cell_type": "code",
   "execution_count": 2,
   "metadata": {},
   "outputs": [],
   "source": [
    "# attention\n",
    "# Scaled Dot-Product Attention implementation\n",
    "# It's fundermental for multi-head attention\n",
    "class ScaledDotProductAttention(nn.Module):\n",
    "    def __init__(self, d_model, d_k, d_v):\n",
    "        super().__init__()\n",
    "        self.d_k = d_k\n",
    "        \n",
    "        # Linear projections for Q, K, V\n",
    "        # Q: Query\n",
    "        # K: Index to calculate relavent score between Q and V \n",
    "        # V: The actual content we want to match with\n",
    "        self.W_q = nn.Linear(d_model, d_k)\n",
    "        self.W_k = nn.Linear(d_model, d_k)\n",
    "        self.W_v = nn.Linear(d_model, d_v)\n",
    "        \n",
    "    def forward(self, q, k, v, mask=None):\n",
    "        # Linear projections\n",
    "        q = self.W_q(q)  # (batch_size, seq_len, d_k)\n",
    "        k = self.W_k(k)  # (batch_size, seq_len, d_k)\n",
    "        v = self.W_v(v)  # (batch_size, seq_len, d_v)\n",
    "        \n",
    "        # Scaled dot-product attention\n",
    "        scores = torch.matmul(q, k.transpose(-2, -1)) / np.sqrt(self.d_k)  # (batch_size, seq_len, seq_len)\n",
    "        \n",
    "        if mask is not None:\n",
    "            scores = scores.masked_fill(mask == 0, -1e9)\n",
    "            \n",
    "        attention_weights = torch.softmax(scores, dim=-1)  # (batch_size, seq_len, seq_len)\n",
    "        output = torch.matmul(attention_weights, v)  # (batch_size, seq_len, d_v)\n",
    "        \n",
    "        return output, attention_weights\n",
    "\n",
    "# Q&A\n",
    "# Q: Why k.transpose(-2, -1)?\n",
    "# A: We use transpose(-2, -1) to allows us to compute: QK^T to calculate attention score between Q and K\n",
    "\n",
    "# Q: What is attention score?\n",
    "# A: Attention score is the score of each position to other positions. You can think of it as the similarity between the query and the key.\n",
    "\n",
    "# Q: Why divide by np.sqrt(self.d_k)?\n",
    "# A: Divide by np.sqrt(self.d_k): avoid large values in dot products which lead to small gradients in softmax\n",
    "\n",
    "# Q: Why divide by np.sqrt(self.d_k), not self.d_k or self.d_k^2?\n",
    "# A: mathematical explanation: assume Q and K are random variables with mean 0 and variance 1, \n",
    "#   then the dot product of Q and K has mean 0 and variance d_k\n",
    "#   so we divide by np.sqrt(self.d_k) to normalize the variance to 1 again\n",
    "\n",
    "# Q: Why softmax?\n",
    "# A: Softmax is used to convert the attention scores into a probability distribution.\n",
    "#    It makes all outputs sum to 1 and each output is between 0 and 1.\n",
    "#    This is perfect for attention weights because We want to know \"how much attention\" (proportion) to pay to each position.\n",
    "#    Sigmoid not used because output sum != 1.\n",
    "#    ReLU not used because it does not normalize outputs and create a probability distribution.\n",
    "#    Tanh not used because it does not create a probability distribution and negative values does not make sense for attention weights.\n"
   ]
  },
  {
   "cell_type": "code",
   "execution_count": 3,
   "metadata": {},
   "outputs": [
    {
     "name": "stdout",
     "output_type": "stream",
     "text": [
      "Input shape: torch.Size([2, 3, 4])\n",
      "Output shape: torch.Size([2, 3, 2])\n",
      "Attention weights shape: torch.Size([2, 3, 3])\n"
     ]
    }
   ],
   "source": [
    "def test_attention():\n",
    "    # Create sample input\n",
    "    batch_size = 2\n",
    "    seq_len = 3\n",
    "    d_model = 4\n",
    "    d_k = 2\n",
    "    d_v = 2\n",
    "    \n",
    "    # Create random input tensors\n",
    "    x = torch.randn(batch_size, seq_len, d_model)\n",
    "    \n",
    "    # Initialize attention layer\n",
    "    attention = ScaledDotProductAttention(d_model, d_k, d_v)\n",
    "    \n",
    "    # Forward pass\n",
    "    output, attention_weights = attention(x, x, x)\n",
    "    \n",
    "    print(\"Input shape:\", x.shape)\n",
    "    print(\"Output shape:\", output.shape)\n",
    "    print(\"Attention weights shape:\", attention_weights.shape)\n",
    "    \n",
    "    return output, attention_weights\n",
    "\n",
    "# Test the implementation\n",
    "output, attention_weights = test_attention()"
   ]
  }
 ],
 "metadata": {
  "kernelspec": {
   "display_name": "Python 3",
   "language": "python",
   "name": "python3"
  },
  "language_info": {
   "codemirror_mode": {
    "name": "ipython",
    "version": 3
   },
   "file_extension": ".py",
   "mimetype": "text/x-python",
   "name": "python",
   "nbconvert_exporter": "python",
   "pygments_lexer": "ipython3",
   "version": "3.8.10"
  }
 },
 "nbformat": 4,
 "nbformat_minor": 2
}
