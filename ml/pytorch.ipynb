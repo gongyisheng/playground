{
 "cells": [
  {
   "cell_type": "markdown",
   "metadata": {},
   "source": [
    "# pytorch basics"
   ]
  },
  {
   "cell_type": "code",
   "execution_count": 3,
   "metadata": {},
   "outputs": [],
   "source": [
    "import torch"
   ]
  },
  {
   "cell_type": "code",
   "execution_count": 9,
   "metadata": {},
   "outputs": [
    {
     "name": "stdout",
     "output_type": "stream",
     "text": [
      "tensor([[0.6032, 0.3480, 0.1462],\n",
      "        [0.7424, 0.0804, 0.2987],\n",
      "        [0.4658, 0.3211, 0.5640]])\n",
      "Shape: torch.Size([3, 3])\n",
      "Data type: torch.float32\n",
      "Device: cpu\n"
     ]
    }
   ],
   "source": [
    "# tensor\n",
    "# create a (3x3) tensor of random values between 0 and 1\n",
    "x = torch.rand(3, 3)  \n",
    "print(x)\n",
    "\n",
    "# create a tensor filled with zeros or ones\n",
    "zeros = torch.zeros(2, 2)\n",
    "ones = torch.ones(2, 2)\n",
    "\n",
    "# create tensors from Python lists\n",
    "tensor_from_list = torch.tensor([[1, 2], [3, 4]])\n",
    "\n",
    "# tensor attributes\n",
    "print(\"Shape:\", x.shape)  # Dimensions of the tensor\n",
    "print(\"Data type:\", x.dtype)  # Data type of tensor elements\n",
    "print(\"Device:\", x.device)  # Device (CPU or GPU) where the tensor resides"
   ]
  },
  {
   "cell_type": "code",
   "execution_count": 27,
   "metadata": {},
   "outputs": [
    {
     "name": "stdout",
     "output_type": "stream",
     "text": [
      "tensor([7, 9])\n",
      "tensor([10, 18])\n",
      "tensor([[0.9055, 0.6976, 0.8879, 0.8953],\n",
      "        [0.9036, 0.3908, 0.7551, 0.5087]])\n",
      "tensor([[0.4532, 0.2530, 0.8634, 0.8838, 0.7986, 0.6280, 0.2144, 0.3975, 0.3244]])\n"
     ]
    }
   ],
   "source": [
    "# tensor operations\n",
    "# element-wise addition\n",
    "a = torch.tensor([2, 3])\n",
    "b = torch.tensor([5, 6])\n",
    "print(a + b)  # [7, 9, 11]\n",
    "\n",
    "# element-wise multiplication\n",
    "print(a * b)  # [10, 18, 28]\n",
    "\n",
    "# matrix multiplication\n",
    "c = torch.rand(2, 3)\n",
    "d = torch.rand(3, 4)\n",
    "print(torch.mm(c, d))  # Result is a (2x4) matrix\n",
    "\n",
    "# reshaping tensors\n",
    "x = torch.rand(3, 3)\n",
    "x_reshaped = x.view(1, 9)  # Reshape to (1x9)\n",
    "print(x_reshaped) # flattened tensor"
   ]
  },
  {
   "cell_type": "code",
   "execution_count": 2,
   "metadata": {},
   "outputs": [
    {
     "name": "stdout",
     "output_type": "stream",
     "text": [
      "Input Tensor:\n",
      "tensor([[ 0.0865, -0.8413,  1.0471],\n",
      "        [ 1.3969, -0.0030, -0.8434]])\n",
      "Shape of Input Tensor: torch.Size([2, 3])\n",
      "Data type of Input Tensor: torch.float32\n",
      "Output Tensor:\n",
      "tensor([[0., 0., 0.],\n",
      "        [0., 0., 0.]])\n",
      "Shape of Output Tensor: torch.Size([2, 3])\n",
      "Data type of Output Tensor: torch.float32\n"
     ]
    }
   ],
   "source": [
    "# troch.zeros_like\n",
    "\n",
    "input_tensor = torch.randn(2, 3, dtype=torch.float32)\n",
    "output_tensor = torch.zeros_like(input_tensor)\n",
    "\n",
    "print(f\"Input Tensor:\\n{input_tensor}\")\n",
    "print(f\"Shape of Input Tensor: {input_tensor.size()}\")\n",
    "print(f\"Data type of Input Tensor: {input_tensor.dtype}\")\n",
    "print(f\"Output Tensor:\\n{output_tensor}\")\n",
    "print(f\"Shape of Output Tensor: {output_tensor.size()}\")\n",
    "print(f\"Data type of Output Tensor: {output_tensor.dtype}\")"
   ]
  }
 ],
 "metadata": {
  "kernelspec": {
   "display_name": "Python 3",
   "language": "python",
   "name": "python3"
  },
  "language_info": {
   "codemirror_mode": {
    "name": "ipython",
    "version": 3
   },
   "file_extension": ".py",
   "mimetype": "text/x-python",
   "name": "python",
   "nbconvert_exporter": "python",
   "pygments_lexer": "ipython3",
   "version": "3.8.10"
  }
 },
 "nbformat": 4,
 "nbformat_minor": 2
}
