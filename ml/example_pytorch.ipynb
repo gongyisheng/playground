{
 "cells": [
  {
   "cell_type": "markdown",
   "metadata": {},
   "source": [
    "# pytorch basics"
   ]
  },
  {
   "cell_type": "code",
   "execution_count": 3,
   "metadata": {},
   "outputs": [],
   "source": [
    "import torch"
   ]
  },
  {
   "cell_type": "code",
   "execution_count": 9,
   "metadata": {},
   "outputs": [
    {
     "name": "stdout",
     "output_type": "stream",
     "text": [
      "tensor([[0.6032, 0.3480, 0.1462],\n",
      "        [0.7424, 0.0804, 0.2987],\n",
      "        [0.4658, 0.3211, 0.5640]])\n",
      "Shape: torch.Size([3, 3])\n",
      "Data type: torch.float32\n",
      "Device: cpu\n"
     ]
    }
   ],
   "source": [
    "# tensor\n",
    "\n",
    "# create a (3x3) tensor of random values between 0 and 1\n",
    "x = torch.rand(3, 3)  \n",
    "print(x)\n",
    "\n",
    "# create a tensor filled with zeros or ones\n",
    "zeros = torch.zeros(2, 2)\n",
    "ones = torch.ones(2, 2)\n",
    "\n",
    "# create tensors from Python lists\n",
    "tensor_from_list = torch.tensor([[1, 2], [3, 4]])\n",
    "\n",
    "# tensor attributes\n",
    "print(\"Shape:\", x.shape)  # Dimensions of the tensor\n",
    "print(\"Data type:\", x.dtype)  # Data type of tensor elements\n",
    "print(\"Device:\", x.device)  # Device (CPU or GPU) where the tensor resides"
   ]
  },
  {
   "cell_type": "code",
   "execution_count": 27,
   "metadata": {},
   "outputs": [
    {
     "name": "stdout",
     "output_type": "stream",
     "text": [
      "tensor([7, 9])\n",
      "tensor([10, 18])\n",
      "tensor([[0.9055, 0.6976, 0.8879, 0.8953],\n",
      "        [0.9036, 0.3908, 0.7551, 0.5087]])\n",
      "tensor([[0.4532, 0.2530, 0.8634, 0.8838, 0.7986, 0.6280, 0.2144, 0.3975, 0.3244]])\n"
     ]
    }
   ],
   "source": [
    "# tensor operations\n",
    "\n",
    "# element-wise addition\n",
    "a = torch.tensor([2, 3])\n",
    "b = torch.tensor([5, 6])\n",
    "print(a + b)  # [7, 9, 11]\n",
    "\n",
    "# element-wise multiplication\n",
    "print(a * b)  # [10, 18, 28]\n",
    "\n",
    "# matrix multiplication\n",
    "c = torch.rand(2, 3)\n",
    "d = torch.rand(3, 4)\n",
    "print(torch.mm(c, d))  # Result is a (2x4) matrix\n",
    "\n",
    "# reshaping tensors\n",
    "x = torch.rand(3, 3)\n",
    "x_reshaped = x.view(1, 9)  # Reshape to (1x9)\n",
    "print(x_reshaped) # flattened tensor"
   ]
  },
  {
   "cell_type": "code",
   "execution_count": 72,
   "metadata": {},
   "outputs": [
    {
     "name": "stdout",
     "output_type": "stream",
     "text": [
      "tensor([[4.5000, 4.5000],\n",
      "        [4.5000, 4.5000]])\n",
      "Model output: tensor([[0.2039]])\n"
     ]
    }
   ],
   "source": [
    "# gradient tracking\n",
    "\n",
    "# the function is y=f(x), how y changes with respect to x\n",
    "# gradient is dy/dx\n",
    "x = torch.ones(2, 2, requires_grad=True)\n",
    "y = x + 2\n",
    "z = y * y * 3 \n",
    "out = z.mean()\n",
    "\n",
    "# Gradient of out\n",
    "# out = z/4 = y*y*3/4 = (x+2)*(x+2)*3/4\n",
    "# gradient = dy/dx = 3/4*(2x+4), set x=1, get gradient = 4.5\n",
    "out.backward()\n",
    "print(x.grad)\n",
    "\n",
    "# use torch.no_grad() to disable gradient tracking\n",
    "model = torch.nn.Linear(10, 1)\n",
    "input_data = torch.randn(1, 10)\n",
    "with torch.no_grad():\n",
    "    output = model(input_data)\n",
    "print(\"Model output:\", output)\n"
   ]
  },
  {
   "cell_type": "code",
   "execution_count": 78,
   "metadata": {},
   "outputs": [
    {
     "name": "stdout",
     "output_type": "stream",
     "text": [
      "Parameter containing:\n",
      "tensor([[-0.0370, -0.1446, -0.1152, -0.0570,  0.1380,  0.2700, -0.0251,  0.1950,\n",
      "          0.0675, -0.2551],\n",
      "        [-0.2163, -0.1290,  0.2934, -0.0519,  0.2082,  0.1411, -0.3083,  0.2654,\n",
      "         -0.1328, -0.0178],\n",
      "        [-0.3051, -0.0507, -0.1567, -0.0532, -0.1814,  0.1584,  0.1134,  0.2943,\n",
      "         -0.2220,  0.2257],\n",
      "        [ 0.0224,  0.0806,  0.1551,  0.1949, -0.2177, -0.1695,  0.2229, -0.0412,\n",
      "         -0.2169,  0.2905],\n",
      "        [-0.2569, -0.3022,  0.2152, -0.2706, -0.0049,  0.1240, -0.2220,  0.2481,\n",
      "          0.0537,  0.2907]], requires_grad=True)\n",
      "tensor([[-0.1168, -0.0000],\n",
      "        [ 3.6211,  0.0000]])\n",
      "Parameter containing:\n",
      "tensor([[[-0.2871,  0.3725, -0.3341]]], requires_grad=True)\n"
     ]
    },
    {
     "data": {
      "text/plain": [
       "BCELoss()"
      ]
     },
     "execution_count": 78,
     "metadata": {},
     "output_type": "execute_result"
    }
   ],
   "source": [
    "# torch.nn, neural networks\n",
    "\n",
    "# neural network layers\n",
    "# fully connected (dense) layers\n",
    "layer = torch.nn.Linear(1,1) # Linear layer with 1 input and 1 output\n",
    "layer = torch.nn.Linear(10, 5) # Linear layer with 10 inputs and 5 outputs\n",
    "print(layer.weight)  # Print weights of the layer\n",
    "\n",
    "# dropout layer\n",
    "layer = torch.nn.Dropout(p=0.5)  # Dropout with probability of 0.5\n",
    "print(layer.forward(torch.randn(2, 2)))  # Apply dropout to a tensor  \n",
    "\n",
    "# convolutional layers\n",
    "layer = torch.nn.Conv2d(in_channels=1, out_channels=1, kernel_size=3)  # 2D convolution\n",
    "layer = torch.nn.Conv1d(in_channels=1, out_channels=1, kernel_size=3)  # 1D convolution\n",
    "print(layer.weight)  # Print weights of the convolutional layer\n",
    "\n",
    "# pooling layers\n",
    "layer = torch.nn.MaxPool2d(kernel_size=2)  # Max pooling\n",
    "\n",
    "# recurrent layers\n",
    "torch.nn.RNN(input_size=10, hidden_size=20)  # RNN layer\n",
    "torch.nn.LSTM(input_size=10, hidden_size=20)  # LSTM layer\n",
    "torch.nn.GRU(input_size=10, hidden_size=20)  # GRU layer\n",
    "\n",
    "# activation functions\n",
    "# softmax function\n",
    "torch.nn.Softmax(dim=1) \n",
    "\n",
    "# sigmoid function\n",
    "torch.nn.Sigmoid()\n",
    "\n",
    "# relu function\n",
    "torch.nn.ReLU()\n",
    "\n",
    "# tanh function\n",
    "torch.nn.Tanh()\n",
    "\n",
    "# loss functions\n",
    "# mean squared error loss\n",
    "torch.nn.MSELoss()\n",
    "# cross entropy loss\n",
    "torch.nn.CrossEntropyLoss()\n",
    "# binary cross entropy loss\n",
    "torch.nn.BCELoss()"
   ]
  },
  {
   "cell_type": "code",
   "execution_count": null,
   "metadata": {},
   "outputs": [],
   "source": [
    "# optimizers"
   ]
  }
 ],
 "metadata": {
  "kernelspec": {
   "display_name": "Python 3",
   "language": "python",
   "name": "python3"
  },
  "language_info": {
   "codemirror_mode": {
    "name": "ipython",
    "version": 3
   },
   "file_extension": ".py",
   "mimetype": "text/x-python",
   "name": "python",
   "nbconvert_exporter": "python",
   "pygments_lexer": "ipython3",
   "version": "3.8.10"
  }
 },
 "nbformat": 4,
 "nbformat_minor": 2
}
