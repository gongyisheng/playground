{
 "cells": [
  {
   "cell_type": "markdown",
   "id": "d1293352",
   "metadata": {},
   "source": [
    "### DistrilBert\n",
    "ref: \n",
    "1. https://plainenglish.io/blog/training-a-distilbert-model-from-scratch\n",
    "2. https://github.com/askaydevs/distillbert-qa\n",
    "3. "
   ]
  },
  {
   "cell_type": "code",
   "execution_count": null,
   "id": "4c490689",
   "metadata": {},
   "outputs": [],
   "source": [
    "from datasets import load_dataset\n",
    "\n",
    "ds = load_dataset(\"openwebtext\")"
   ]
  }
 ],
 "metadata": {
  "kernelspec": {
   "display_name": "Python 3",
   "language": "python",
   "name": "python3"
  },
  "language_info": {
   "codemirror_mode": {
    "name": "ipython",
    "version": 3
   },
   "file_extension": ".py",
   "mimetype": "text/x-python",
   "name": "python",
   "nbconvert_exporter": "python",
   "pygments_lexer": "ipython3",
   "version": "3.13.1"
  }
 },
 "nbformat": 4,
 "nbformat_minor": 5
}
