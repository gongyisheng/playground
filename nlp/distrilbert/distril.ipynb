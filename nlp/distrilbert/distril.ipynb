{
 "cells": [
  {
   "cell_type": "markdown",
   "id": "d1293352",
   "metadata": {},
   "source": [
    "### DistrilBert\n",
    "ref: \n",
    "1. https://plainenglish.io/blog/training-a-distilbert-model-from-scratch\n",
    "2. https://github.com/askaydevs/distillbert-qa"
   ]
  },
  {
   "cell_type": "code",
   "execution_count": 3,
   "id": "4c490689",
   "metadata": {},
   "outputs": [],
   "source": [
    "from datasets import load_dataset\n",
    "from tokenizers import BertWordPieceTokenizer"
   ]
  },
  {
   "cell_type": "code",
   "execution_count": 4,
   "id": "d51c6e09-ba52-4c49-b476-87607e53d2d6",
   "metadata": {},
   "outputs": [
    {
     "data": {
      "application/vnd.jupyter.widget-view+json": {
       "model_id": "a279711984284646947cc5bab4a0c73e",
       "version_major": 2,
       "version_minor": 0
      },
      "text/plain": [
       "Loading dataset shards:   0%|          | 0/80 [00:00<?, ?it/s]"
      ]
     },
     "metadata": {},
     "output_type": "display_data"
    }
   ],
   "source": [
    "ds = load_dataset(\"openwebtext\")"
   ]
  },
  {
   "cell_type": "code",
   "execution_count": 5,
   "id": "8b030c92-a8fd-4281-8c34-a898fecda9d3",
   "metadata": {},
   "outputs": [
    {
     "ename": "NameError",
     "evalue": "name 'Path' is not defined",
     "output_type": "error",
     "traceback": [
      "\u001b[31m---------------------------------------------------------------------------\u001b[39m",
      "\u001b[31mNameError\u001b[39m                                 Traceback (most recent call last)",
      "\u001b[36mCell\u001b[39m\u001b[36m \u001b[39m\u001b[32mIn[5]\u001b[39m\u001b[32m, line 1\u001b[39m\n\u001b[32m----> \u001b[39m\u001b[32m1\u001b[39m paths = [\u001b[38;5;28mstr\u001b[39m(x) \u001b[38;5;28;01mfor\u001b[39;00m x \u001b[38;5;129;01min\u001b[39;00m \u001b[43mPath\u001b[49m(\u001b[33m'\u001b[39m\u001b[33mdata/original\u001b[39m\u001b[33m'\u001b[39m).glob(\u001b[33m'\u001b[39m\u001b[33m**/*.txt\u001b[39m\u001b[33m'\u001b[39m)]\n\u001b[32m      3\u001b[39m tokenizer = BertWordPieceTokenizer(\n\u001b[32m      4\u001b[39m         clean_text=\u001b[38;5;28;01mTrue\u001b[39;00m,\n\u001b[32m      5\u001b[39m         handle_chinese_chars=\u001b[38;5;28;01mFalse\u001b[39;00m,\n\u001b[32m      6\u001b[39m         strip_accents=\u001b[38;5;28;01mFalse\u001b[39;00m,\n\u001b[32m      7\u001b[39m         lowercase=\u001b[38;5;28;01mTrue\u001b[39;00m\n\u001b[32m      8\u001b[39m )\n\u001b[32m      9\u001b[39m tokenizer.train(files=paths[:\u001b[32m10\u001b[39m], vocab_size=\u001b[32m30_000\u001b[39m, min_frequency=\u001b[32m2\u001b[39m,\n\u001b[32m     10\u001b[39m                     limit_alphabet=\u001b[32m1000\u001b[39m, wordpieces_prefix=\u001b[33m'\u001b[39m\u001b[33m##\u001b[39m\u001b[33m'\u001b[39m,\n\u001b[32m     11\u001b[39m                     special_tokens=[\u001b[33m'\u001b[39m\u001b[33m[PAD]\u001b[39m\u001b[33m'\u001b[39m, \u001b[33m'\u001b[39m\u001b[33m[UNK]\u001b[39m\u001b[33m'\u001b[39m, \u001b[33m'\u001b[39m\u001b[33m[CLS]\u001b[39m\u001b[33m'\u001b[39m, \u001b[33m'\u001b[39m\u001b[33m[SEP]\u001b[39m\u001b[33m'\u001b[39m, \u001b[33m'\u001b[39m\u001b[33m[MASK]\u001b[39m\u001b[33m'\u001b[39m])\n",
      "\u001b[31mNameError\u001b[39m: name 'Path' is not defined"
     ]
    }
   ],
   "source": [
    "paths = [str(x) for x in Path('data/original').glob('**/*.txt')]\n",
    "\n",
    "tokenizer = BertWordPieceTokenizer(\n",
    "        clean_text=True,\n",
    "        handle_chinese_chars=False,\n",
    "        strip_accents=False,\n",
    "        lowercase=True\n",
    ")\n",
    "tokenizer.train(files=paths[:10], vocab_size=30_000, min_frequency=2,\n",
    "                    limit_alphabet=1000, wordpieces_prefix='##',\n",
    "                    special_tokens=['[PAD]', '[UNK]', '[CLS]', '[SEP]', '[MASK]'])\n"
   ]
  },
  {
   "cell_type": "code",
   "execution_count": null,
   "id": "04ff04bb-7d6c-44a8-87c8-2025be1a227f",
   "metadata": {},
   "outputs": [],
   "source": []
  }
 ],
 "metadata": {
  "kernelspec": {
   "display_name": "Python 3 (ipykernel)",
   "language": "python",
   "name": "python3"
  },
  "language_info": {
   "codemirror_mode": {
    "name": "ipython",
    "version": 3
   },
   "file_extension": ".py",
   "mimetype": "text/x-python",
   "name": "python",
   "nbconvert_exporter": "python",
   "pygments_lexer": "ipython3",
   "version": "3.13.5"
  }
 },
 "nbformat": 4,
 "nbformat_minor": 5
}
