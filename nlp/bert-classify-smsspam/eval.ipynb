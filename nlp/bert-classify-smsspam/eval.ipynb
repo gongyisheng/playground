{
 "cells": [
  {
   "cell_type": "code",
   "execution_count": 2,
   "id": "bf19c228-fdcd-45da-a41d-3ee98ee56799",
   "metadata": {},
   "outputs": [
    {
     "name": "stderr",
     "output_type": "stream",
     "text": [
      "/media/hdddisk/anaconda3/envs/nlp/lib/python3.11/site-packages/tqdm/auto.py:21: TqdmWarning: IProgress not found. Please update jupyter and ipywidgets. See https://ipywidgets.readthedocs.io/en/stable/user_install.html\n",
      "  from .autonotebook import tqdm as notebook_tqdm\n",
      "/media/hdddisk/anaconda3/envs/nlp/lib/python3.11/site-packages/transformers/utils/hub.py:128: FutureWarning: Using `TRANSFORMERS_CACHE` is deprecated and will be removed in v5 of Transformers. Use `HF_HOME` instead.\n",
      "  warnings.warn(\n",
      "2025-02-12 04:53:16.275075: I tensorflow/core/util/port.cc:153] oneDNN custom operations are on. You may see slightly different numerical results due to floating-point round-off errors from different computation orders. To turn them off, set the environment variable `TF_ENABLE_ONEDNN_OPTS=0`.\n",
      "2025-02-12 04:53:17.091689: I tensorflow/core/platform/cpu_feature_guard.cc:210] This TensorFlow binary is optimized to use available CPU instructions in performance-critical operations.\n",
      "To enable the following instructions: SSE4.1 SSE4.2 AVX AVX2 AVX_VNNI FMA, in other operations, rebuild TensorFlow with the appropriate compiler flags.\n"
     ]
    }
   ],
   "source": [
    "from transformers import BertTokenizer, BertForSequenceClassification\n",
    "import torch"
   ]
  },
  {
   "cell_type": "code",
   "execution_count": 5,
   "id": "fe0f1d64-d1f8-4ddf-8530-4ba6e11d734d",
   "metadata": {},
   "outputs": [
    {
     "data": {
      "text/plain": [
       "BertForSequenceClassification(\n",
       "  (bert): BertModel(\n",
       "    (embeddings): BertEmbeddings(\n",
       "      (word_embeddings): Embedding(30522, 768, padding_idx=0)\n",
       "      (position_embeddings): Embedding(512, 768)\n",
       "      (token_type_embeddings): Embedding(2, 768)\n",
       "      (LayerNorm): LayerNorm((768,), eps=1e-12, elementwise_affine=True)\n",
       "      (dropout): Dropout(p=0.1, inplace=False)\n",
       "    )\n",
       "    (encoder): BertEncoder(\n",
       "      (layer): ModuleList(\n",
       "        (0-11): 12 x BertLayer(\n",
       "          (attention): BertAttention(\n",
       "            (self): BertSdpaSelfAttention(\n",
       "              (query): Linear(in_features=768, out_features=768, bias=True)\n",
       "              (key): Linear(in_features=768, out_features=768, bias=True)\n",
       "              (value): Linear(in_features=768, out_features=768, bias=True)\n",
       "              (dropout): Dropout(p=0.1, inplace=False)\n",
       "            )\n",
       "            (output): BertSelfOutput(\n",
       "              (dense): Linear(in_features=768, out_features=768, bias=True)\n",
       "              (LayerNorm): LayerNorm((768,), eps=1e-12, elementwise_affine=True)\n",
       "              (dropout): Dropout(p=0.1, inplace=False)\n",
       "            )\n",
       "          )\n",
       "          (intermediate): BertIntermediate(\n",
       "            (dense): Linear(in_features=768, out_features=3072, bias=True)\n",
       "            (intermediate_act_fn): GELUActivation()\n",
       "          )\n",
       "          (output): BertOutput(\n",
       "            (dense): Linear(in_features=3072, out_features=768, bias=True)\n",
       "            (LayerNorm): LayerNorm((768,), eps=1e-12, elementwise_affine=True)\n",
       "            (dropout): Dropout(p=0.1, inplace=False)\n",
       "          )\n",
       "        )\n",
       "      )\n",
       "    )\n",
       "    (pooler): BertPooler(\n",
       "      (dense): Linear(in_features=768, out_features=768, bias=True)\n",
       "      (activation): Tanh()\n",
       "    )\n",
       "  )\n",
       "  (dropout): Dropout(p=0.1, inplace=False)\n",
       "  (classifier): Linear(in_features=768, out_features=2, bias=True)\n",
       ")"
      ]
     },
     "execution_count": 5,
     "metadata": {},
     "output_type": "execute_result"
    }
   ],
   "source": [
    "# Load the tokenizer and model\n",
    "tokenizer_name = \"bert-base-uncased\"\n",
    "model_name = \"/media/hdddisk/bert-classify-smsspam-data/results/checkpoint-5580\"  # or your specific model name\n",
    "tokenizer = BertTokenizer.from_pretrained(tokenizer_name)\n",
    "model = BertForSequenceClassification.from_pretrained(model_name)\n",
    "model.eval()  # Put the model in evaluation mode"
   ]
  },
  {
   "cell_type": "code",
   "execution_count": 16,
   "id": "f2cdb8ab-c76a-4c93-b832-488acabc1a5e",
   "metadata": {},
   "outputs": [],
   "source": [
    "texts = [\n",
    "    \"Your input text here\",\n",
    "    \"Some texts\",\n",
    "    \"Great news! You're selected\"\n",
    "]\n",
    "inputs = tokenizer(texts, return_tensors='pt', padding=True, truncation=True)"
   ]
  },
  {
   "cell_type": "code",
   "execution_count": 17,
   "id": "64976dc0-e7ae-40cc-b3d0-76bc5c5c44be",
   "metadata": {},
   "outputs": [],
   "source": [
    "with torch.no_grad():  # Disable gradients for inference\n",
    "   outputs = model(**inputs)\n",
    "   logits = outputs.logits  # Get the logits (raw scores before activation)"
   ]
  },
  {
   "cell_type": "code",
   "execution_count": 19,
   "id": "e5e193aa-e5a0-43a7-bbbf-54d62eebaf37",
   "metadata": {},
   "outputs": [
    {
     "name": "stdout",
     "output_type": "stream",
     "text": [
      "Text: Your input text here\n",
      "Probability of label 1: 0.0072843595407903194\n",
      "Probability of label 0: 0.9927156567573547\n",
      "---\n",
      "Text: Some texts\n",
      "Probability of label 1: 0.00018757855286821723\n",
      "Probability of label 0: 0.9998124241828918\n",
      "---\n",
      "Text: Great news! You're selected\n",
      "Probability of label 1: 0.0006559456815011799\n",
      "Probability of label 0: 0.9993440508842468\n",
      "---\n"
     ]
    }
   ],
   "source": [
    "prob = torch.softmax(logits, dim=1)  # Apply softmax along the class dimension\n",
    "\n",
    "probs_pos = prob[:, 1].tolist()  # Probability of label 1\n",
    "probs_neg = prob[:, 0].tolist()  # Probability of label 0\n",
    "\n",
    "for i, text in enumerate(texts):\n",
    "    print(f\"Text: {text}\")\n",
    "    print(f\"Probability of label 1: {probs_pos[i]}\")\n",
    "    print(f\"Probability of label 0: {probs_neg[i]}\")\n",
    "    print(\"---\")"
   ]
  }
 ],
 "metadata": {
  "kernelspec": {
   "display_name": "nlp",
   "language": "python",
   "name": "nlp"
  },
  "language_info": {
   "codemirror_mode": {
    "name": "ipython",
    "version": 3
   },
   "file_extension": ".py",
   "mimetype": "text/x-python",
   "name": "python",
   "nbconvert_exporter": "python",
   "pygments_lexer": "ipython3",
   "version": "3.11.10"
  }
 },
 "nbformat": 4,
 "nbformat_minor": 5
}
