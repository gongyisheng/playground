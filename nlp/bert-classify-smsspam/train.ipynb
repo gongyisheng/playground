{
 "cells": [
  {
   "cell_type": "code",
   "execution_count": null,
   "id": "4f310e91-8a35-4e6b-bf8d-b5022a34b892",
   "metadata": {},
   "outputs": [],
   "source": [
    "from transformers import BertTokenizer, BertForSequenceClassification, Trainer, TrainingArguments\n",
    "from datasets import load_dataset\n",
    "import numpy as np\n",
    "import pandas as pd\n",
    "import evaluate\n",
    "\n",
    "DATA_DIR = \"/media/hdddisk/bert-classify-smsspam-data\""
   ]
  },
  {
   "cell_type": "code",
   "execution_count": null,
   "id": "e221c07e-3683-42e9-bf00-52c60cab60c7",
   "metadata": {},
   "outputs": [],
   "source": [
    "# Train the model\n",
    "import mlflow\n",
    "mlflow.set_tracking_uri(\"https://mlflow.yellowday.day\")\n",
    "mlflow.set_experiment(\"bert-classify-smsspam\")\n",
    "mlflow.enable_system_metrics_logging() # Logs CPU, RAM, GPU usage"
   ]
  },
  {
   "cell_type": "code",
   "execution_count": null,
   "id": "1190e55b-bf60-423f-8d79-a826b0dd5c9c",
   "metadata": {},
   "outputs": [],
   "source": [
    "df = pd.read_csv(\"./data/smsspam.csv\")\n",
    "\n",
    "# split into train and test\n",
    "train_df = df.sample(frac=0.8, random_state=42)\n",
    "test_df = df.drop(train_df.index)\n",
    "\n",
    "train_df.to_csv(\"./data/smsspam-train.csv\", index=False)\n",
    "test_df.to_csv(\"./data/smsspam-test.csv\", index=False)\n",
    "\n",
    "print(\"Train size:\", len(train_df), \"Test size:\", len(test_df))"
   ]
  },
  {
   "cell_type": "code",
   "execution_count": null,
   "id": "1be5e7d6",
   "metadata": {},
   "outputs": [
    {
     "name": "stderr",
     "output_type": "stream",
     "text": [
      "2025/02/12 07:38:06 WARNING mlflow.system_metrics.system_metrics_monitor: Failed to log system metrics: INVALID_PARAMETER_VALUE: The run d6082c602c1a4019ab8ed4947b55f6d6 must be in the 'active' state. Current state is deleted., this is expected if the experiment/run is already terminated.\n"
     ]
    }
   ],
   "source": [
    "# Load the dataset\n",
    "dataset = load_dataset('csv', data_files={'train': './data/smsspam-train.csv', 'test': './data/smsspam-test.csv'})\n",
    "mlflow.log_artifact(\"/home/yisheng/playground/nlp/bert-classify-smsspam/data/smsspam-train.csv\")\n",
    "mlflow.log_artifact(\"./data/smsspam-test.csv\")\n",
    "\n",
    "# Load the BERT tokenizer\n",
    "tokenizer = BertTokenizer.from_pretrained('bert-base-uncased')\n",
    "\n",
    "# Tokenize the dataset\n",
    "def tokenize_function(examples):\n",
    "    return tokenizer(examples['text'], padding=\"max_length\", truncation=True)\n",
    "\n",
    "tokenized_datasets = dataset.map(tokenize_function, batched=True)\n",
    "\n",
    "# Prepare the dataset for PyTorch\n",
    "tokenized_datasets.set_format(type='torch', columns=['input_ids', 'attention_mask', 'label'])\n",
    "\n",
    "# Load the BERT model for sequence classification\n",
    "model = BertForSequenceClassification.from_pretrained('bert-base-uncased', num_labels=2)"
   ]
  },
  {
   "cell_type": "code",
   "execution_count": null,
   "id": "93f99c83",
   "metadata": {},
   "outputs": [],
   "source": [
    "training_args = TrainingArguments(\n",
    "    output_dir=f'{DATA_DIR}/results',  # Output directory\n",
    "    num_train_epochs=1,                # Number of training epochs\n",
    "    per_device_train_batch_size=8,     # Batch size for training\n",
    "    per_device_eval_batch_size=8,      # Batch size for evaluation\n",
    "    learning_rate=5e-6,                # Learning rate\n",
    "    warmup_steps=100,                   # Number of warmup steps for learning rate scheduler\n",
    "    weight_decay=0.01,                 # Strength of weight decay\n",
    "    logging_dir=f'{DATA_DIR}/logs',    # Directory for storing logs\n",
    "    logging_steps=10,\n",
    "    eval_strategy=\"steps\",             # Evaluate every epoch = \"epoch\"\n",
    "    eval_steps=20,                     # Number of steps between evaluations\n",
    "    save_strategy=\"steps\",             # Save model every epoch\n",
    "    save_steps=20,\n",
    "    load_best_model_at_end=True,       # Load the best model at the end of training\n",
    "    save_total_limit=2,                # Limit the total number of saved models\n",
    "    metric_for_best_model=\"accuracy\",  # Use accuracy to determine the best model\n",
    "    report_to=\"mlflow\",                # Enable logging to MLflow\n",
    ")\n",
    "\n",
    "# Define the metric for evaluation\n",
    "metric = evaluate.load(\"accuracy\")\n",
    "\n",
    "def compute_metrics(eval_pred):\n",
    "    logits, labels = eval_pred\n",
    "    predictions = np.argmax(logits, axis=-1)\n",
    "    return metric.compute(predictions=predictions, references=labels)"
   ]
  },
  {
   "cell_type": "code",
   "execution_count": null,
   "id": "1db1e79b",
   "metadata": {},
   "outputs": [],
   "source": [
    "# Initialize the Trainer\n",
    "trainer = Trainer(\n",
    "    model=model,                         # The pre-trained model\n",
    "    args=training_args,                  # Training arguments\n",
    "    train_dataset=tokenized_datasets['train'],  # Training dataset\n",
    "    eval_dataset=tokenized_datasets['test'],    # Evaluation dataset\n",
    "    compute_metrics=compute_metrics,     # Function to compute metrics\n",
    ")"
   ]
  },
  {
   "cell_type": "code",
   "execution_count": null,
   "id": "e66122aa",
   "metadata": {},
   "outputs": [],
   "source": [
    "with mlflow.start_run():\n",
    "    trainer.train()"
   ]
  },
  {
   "cell_type": "code",
   "execution_count": null,
   "id": "ef59b453",
   "metadata": {},
   "outputs": [],
   "source": [
    "# Evaluate the model\n",
    "eval_results = trainer.evaluate()\n",
    "print(f\"Evaluation results: {eval_results}\")"
   ]
  },
  {
   "cell_type": "code",
   "execution_count": null,
   "id": "88012007",
   "metadata": {},
   "outputs": [],
   "source": [
    "# Save the model\n",
    "trainer.save_model('./final_model')\n",
    "tokenizer.save_pretrained('./final_model')\n",
    "\n",
    "print(\"Model training and evaluation complete. Model saved to './final_model'.\")"
   ]
  },
  {
   "cell_type": "code",
   "execution_count": null,
   "id": "724f16ce-b894-4879-963f-7176898feebd",
   "metadata": {},
   "outputs": [],
   "source": [
    "# Resume from checkpoint\n",
    "dataset = load_dataset('csv', data_files={'train': './data/smsspam-train.csv', 'test': './data/smsspam-test.csv'})\n",
    "def tokenize_function(examples):\n",
    "    return tokenizer(examples['text'], padding=\"max_length\", truncation=True)\n",
    "tokenized_datasets = dataset.map(tokenize_function, batched=True)\n",
    "tokenized_datasets.set_format(type='torch', columns=['input_ids', 'attention_mask', 'label'])\n",
    "\n",
    "tokenizer = BertTokenizer.from_pretrained('bert-base-uncased')\n",
    "model = BertForSequenceClassification.from_pretrained('/media/hdddisk/bert-classify-smsspam-data/results/checkpoint-460', num_labels=2)\n",
    "\n",
    "training_args = TrainingArguments(\n",
    "    output_dir=f'{DATA_DIR}/results',  # Output directory\n",
    "    num_train_epochs=2,                # Number of training epochs\n",
    "    per_device_train_batch_size=8,     # Batch size for training\n",
    "    per_device_eval_batch_size=8,      # Batch size for evaluation\n",
    "    learning_rate=5e-6,                # Learning rate\n",
    "    warmup_steps=100,                   # Number of warmup steps for learning rate scheduler\n",
    "    weight_decay=0.01,                 # Strength of weight decay\n",
    "    logging_dir=f'{DATA_DIR}/logs',    # Directory for storing logs\n",
    "    logging_steps=10,\n",
    "    eval_strategy=\"steps\",             # Evaluate every epoch = \"epoch\"\n",
    "    eval_steps=20,                     # Number of steps between evaluations\n",
    "    save_strategy=\"steps\",             # Save model every epoch\n",
    "    save_steps=20,\n",
    "    load_best_model_at_end=True,       # Load the best model at the end of training\n",
    "    save_total_limit=2,                # Limit the total number of saved models\n",
    "    metric_for_best_model=\"accuracy\",  # Use accuracy to determine the best model\n",
    "    report_to=\"mlflow\",                # Enable logging to MLflow\n",
    ")\n",
    "\n",
    "# Define the metric for evaluation\n",
    "metric = evaluate.load(\"accuracy\")\n",
    "\n",
    "def compute_metrics(eval_pred):\n",
    "    logits, labels = eval_pred\n",
    "    predictions = np.argmax(logits, axis=-1)\n",
    "    return metric.compute(predictions=predictions, references=labels)\n",
    "\n",
    "# Initialize the Trainer\n",
    "trainer = Trainer(\n",
    "    model=model,                         # The pre-trained model\n",
    "    args=training_args,                  # Training arguments\n",
    "    train_dataset=tokenized_datasets['train'],  # Training dataset\n",
    "    eval_dataset=tokenized_datasets['test'],    # Evaluation dataset\n",
    "    compute_metrics=compute_metrics,     # Function to compute metrics\n",
    ")"
   ]
  }
 ],
 "metadata": {
  "kernelspec": {
   "display_name": "nlp",
   "language": "python",
   "name": "nlp"
  },
  "language_info": {
   "codemirror_mode": {
    "name": "ipython",
    "version": 3
   },
   "file_extension": ".py",
   "mimetype": "text/x-python",
   "name": "python",
   "nbconvert_exporter": "python",
   "pygments_lexer": "ipython3",
   "version": "3.11.10"
  }
 },
 "nbformat": 4,
 "nbformat_minor": 5
}
