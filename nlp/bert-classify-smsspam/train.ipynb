{
 "cells": [
  {
   "cell_type": "code",
   "execution_count": 1,
   "id": "4f310e91-8a35-4e6b-bf8d-b5022a34b892",
   "metadata": {},
   "outputs": [
    {
     "name": "stderr",
     "output_type": "stream",
     "text": [
      "/media/hdddisk/anaconda3/envs/nlp/lib/python3.11/site-packages/tqdm/auto.py:21: TqdmWarning: IProgress not found. Please update jupyter and ipywidgets. See https://ipywidgets.readthedocs.io/en/stable/user_install.html\n",
      "  from .autonotebook import tqdm as notebook_tqdm\n",
      "/media/hdddisk/anaconda3/envs/nlp/lib/python3.11/site-packages/transformers/utils/hub.py:128: FutureWarning: Using `TRANSFORMERS_CACHE` is deprecated and will be removed in v5 of Transformers. Use `HF_HOME` instead.\n",
      "  warnings.warn(\n",
      "2025-02-07 10:44:56.213748: I tensorflow/core/util/port.cc:153] oneDNN custom operations are on. You may see slightly different numerical results due to floating-point round-off errors from different computation orders. To turn them off, set the environment variable `TF_ENABLE_ONEDNN_OPTS=0`.\n",
      "2025-02-07 10:44:56.233641: I tensorflow/core/platform/cpu_feature_guard.cc:210] This TensorFlow binary is optimized to use available CPU instructions in performance-critical operations.\n",
      "To enable the following instructions: SSE4.1 SSE4.2 AVX AVX2 AVX_VNNI FMA, in other operations, rebuild TensorFlow with the appropriate compiler flags.\n"
     ]
    }
   ],
   "source": [
    "from transformers import BertTokenizer, BertForSequenceClassification, Trainer, TrainingArguments\n",
    "from datasets import load_dataset\n",
    "import numpy as np\n",
    "import pandas as pd\n",
    "import evaluate\n",
    "\n",
    "DATA_DIR = \"/media/hdddisk/bert-classify-smsspam-data\""
   ]
  },
  {
   "cell_type": "code",
   "execution_count": 2,
   "id": "1190e55b-bf60-423f-8d79-a826b0dd5c9c",
   "metadata": {},
   "outputs": [
    {
     "name": "stdout",
     "output_type": "stream",
     "text": [
      "Train size: 4459 Test size: 1115\n"
     ]
    }
   ],
   "source": [
    "df = pd.read_csv(\"./data/smsspam.csv\")\n",
    "\n",
    "# split into train and test\n",
    "train_df = df.sample(frac=0.8, random_state=42)\n",
    "test_df = df.drop(train_df.index)\n",
    "\n",
    "train_df.to_csv(\"./data/smsspam-train.csv\", index=False)\n",
    "test_df.to_csv(\"./data/smsspam-test.csv\", index=False)\n",
    "\n",
    "print(\"Train size:\", len(train_df), \"Test size:\", len(test_df))"
   ]
  },
  {
   "cell_type": "code",
   "execution_count": 3,
   "id": "1be5e7d6",
   "metadata": {},
   "outputs": [
    {
     "name": "stderr",
     "output_type": "stream",
     "text": [
      "Generating train split: 4459 examples [00:00, 531605.17 examples/s]\n",
      "Generating test split: 1115 examples [00:00, 408084.55 examples/s]\n",
      "Map: 100%|██████████| 4459/4459 [00:01<00:00, 4088.96 examples/s]\n",
      "Map: 100%|██████████| 1115/1115 [00:00<00:00, 2748.28 examples/s]\n",
      "Some weights of BertForSequenceClassification were not initialized from the model checkpoint at bert-base-uncased and are newly initialized: ['classifier.bias', 'classifier.weight']\n",
      "You should probably TRAIN this model on a down-stream task to be able to use it for predictions and inference.\n"
     ]
    }
   ],
   "source": [
    "# Load the dataset\n",
    "dataset = load_dataset('csv', data_files={'train': './data/smsspam-train.csv', 'test': './data/smsspam-test.csv'})\n",
    "\n",
    "# Load the BERT tokenizer\n",
    "tokenizer = BertTokenizer.from_pretrained('bert-base-uncased')\n",
    "\n",
    "# Tokenize the dataset\n",
    "def tokenize_function(examples):\n",
    "    return tokenizer(examples['text'], padding=\"max_length\", truncation=True)\n",
    "\n",
    "tokenized_datasets = dataset.map(tokenize_function, batched=True)\n",
    "\n",
    "# Prepare the dataset for PyTorch\n",
    "tokenized_datasets.set_format(type='torch', columns=['input_ids', 'attention_mask', 'label'])\n",
    "\n",
    "# Load the BERT model for sequence classification\n",
    "model = BertForSequenceClassification.from_pretrained('bert-base-uncased', num_labels=2)"
   ]
  },
  {
   "cell_type": "code",
   "execution_count": 4,
   "id": "93f99c83",
   "metadata": {},
   "outputs": [],
   "source": [
    "training_args = TrainingArguments(\n",
    "    output_dir=f'{DATA_DIR}/results',  # Output directory\n",
    "    num_train_epochs=1,                # Number of training epochs\n",
    "    per_device_train_batch_size=8,     # Batch size for training\n",
    "    per_device_eval_batch_size=8,      # Batch size for evaluation\n",
    "    learning_rate=5e-6,                # Learning rate\n",
    "    warmup_steps=100,                   # Number of warmup steps for learning rate scheduler\n",
    "    weight_decay=0.01,                 # Strength of weight decay\n",
    "    logging_dir=f'{DATA_DIR}/logs',    # Directory for storing logs\n",
    "    logging_steps=10,\n",
    "    eval_strategy=\"steps\",             # Evaluate every epoch = \"epoch\"\n",
    "    eval_steps=20,                     # Number of steps between evaluations\n",
    "    save_strategy=\"steps\",             # Save model every epoch\n",
    "    save_steps=20,\n",
    "    load_best_model_at_end=True,       # Load the best model at the end of training\n",
    "    save_total_limit=2,                # Limit the total number of saved models\n",
    "    metric_for_best_model=\"accuracy\",  # Use accuracy to determine the best model\n",
    "    report_to=\"mlflow\",                # Enable logging to MLflow\n",
    ")\n",
    "\n",
    "# Define the metric for evaluation\n",
    "metric = evaluate.load(\"accuracy\")\n",
    "\n",
    "def compute_metrics(eval_pred):\n",
    "    logits, labels = eval_pred\n",
    "    predictions = np.argmax(logits, axis=-1)\n",
    "    return metric.compute(predictions=predictions, references=labels)"
   ]
  },
  {
   "cell_type": "code",
   "execution_count": 5,
   "id": "1db1e79b",
   "metadata": {},
   "outputs": [],
   "source": [
    "# Initialize the Trainer\n",
    "trainer = Trainer(\n",
    "    model=model,                         # The pre-trained model\n",
    "    args=training_args,                  # Training arguments\n",
    "    train_dataset=tokenized_datasets['train'],  # Training dataset\n",
    "    eval_dataset=tokenized_datasets['test'],    # Evaluation dataset\n",
    "    compute_metrics=compute_metrics,     # Function to compute metrics\n",
    ")"
   ]
  },
  {
   "cell_type": "code",
   "execution_count": 6,
   "id": "e66122aa",
   "metadata": {},
   "outputs": [
    {
     "name": "stderr",
     "output_type": "stream",
     "text": [
      "2025/02/07 10:45:06 INFO mlflow.system_metrics.system_metrics_monitor: Started monitoring system metrics.\n"
     ]
    },
    {
     "data": {
      "text/html": [
       "\n",
       "    <div>\n",
       "      \n",
       "      <progress value='558' max='558' style='width:300px; height:20px; vertical-align: middle;'></progress>\n",
       "      [558/558 13:30, Epoch 1/1]\n",
       "    </div>\n",
       "    <table border=\"1\" class=\"dataframe\">\n",
       "  <thead>\n",
       " <tr style=\"text-align: left;\">\n",
       "      <th>Step</th>\n",
       "      <th>Training Loss</th>\n",
       "      <th>Validation Loss</th>\n",
       "      <th>Accuracy</th>\n",
       "    </tr>\n",
       "  </thead>\n",
       "  <tbody>\n",
       "    <tr>\n",
       "      <td>20</td>\n",
       "      <td>0.616600</td>\n",
       "      <td>0.593234</td>\n",
       "      <td>0.794619</td>\n",
       "    </tr>\n",
       "    <tr>\n",
       "      <td>40</td>\n",
       "      <td>0.535800</td>\n",
       "      <td>0.520717</td>\n",
       "      <td>0.856502</td>\n",
       "    </tr>\n",
       "    <tr>\n",
       "      <td>60</td>\n",
       "      <td>0.488200</td>\n",
       "      <td>0.441336</td>\n",
       "      <td>0.860987</td>\n",
       "    </tr>\n",
       "    <tr>\n",
       "      <td>80</td>\n",
       "      <td>0.365000</td>\n",
       "      <td>0.348381</td>\n",
       "      <td>0.860987</td>\n",
       "    </tr>\n",
       "    <tr>\n",
       "      <td>100</td>\n",
       "      <td>0.261600</td>\n",
       "      <td>0.240110</td>\n",
       "      <td>0.897758</td>\n",
       "    </tr>\n",
       "    <tr>\n",
       "      <td>120</td>\n",
       "      <td>0.215500</td>\n",
       "      <td>0.154159</td>\n",
       "      <td>0.967713</td>\n",
       "    </tr>\n",
       "    <tr>\n",
       "      <td>140</td>\n",
       "      <td>0.158300</td>\n",
       "      <td>0.112371</td>\n",
       "      <td>0.982063</td>\n",
       "    </tr>\n",
       "    <tr>\n",
       "      <td>160</td>\n",
       "      <td>0.059500</td>\n",
       "      <td>0.085808</td>\n",
       "      <td>0.983857</td>\n",
       "    </tr>\n",
       "    <tr>\n",
       "      <td>180</td>\n",
       "      <td>0.061500</td>\n",
       "      <td>0.074209</td>\n",
       "      <td>0.984753</td>\n",
       "    </tr>\n",
       "    <tr>\n",
       "      <td>200</td>\n",
       "      <td>0.028200</td>\n",
       "      <td>0.075930</td>\n",
       "      <td>0.983857</td>\n",
       "    </tr>\n",
       "    <tr>\n",
       "      <td>220</td>\n",
       "      <td>0.050300</td>\n",
       "      <td>0.067755</td>\n",
       "      <td>0.983857</td>\n",
       "    </tr>\n",
       "    <tr>\n",
       "      <td>240</td>\n",
       "      <td>0.015100</td>\n",
       "      <td>0.070995</td>\n",
       "      <td>0.980269</td>\n",
       "    </tr>\n",
       "    <tr>\n",
       "      <td>260</td>\n",
       "      <td>0.029300</td>\n",
       "      <td>0.073841</td>\n",
       "      <td>0.982960</td>\n",
       "    </tr>\n",
       "    <tr>\n",
       "      <td>280</td>\n",
       "      <td>0.113200</td>\n",
       "      <td>0.077302</td>\n",
       "      <td>0.983857</td>\n",
       "    </tr>\n",
       "    <tr>\n",
       "      <td>300</td>\n",
       "      <td>0.142000</td>\n",
       "      <td>0.080052</td>\n",
       "      <td>0.982960</td>\n",
       "    </tr>\n",
       "    <tr>\n",
       "      <td>320</td>\n",
       "      <td>0.103300</td>\n",
       "      <td>0.077804</td>\n",
       "      <td>0.983857</td>\n",
       "    </tr>\n",
       "    <tr>\n",
       "      <td>340</td>\n",
       "      <td>0.039300</td>\n",
       "      <td>0.082417</td>\n",
       "      <td>0.982960</td>\n",
       "    </tr>\n",
       "    <tr>\n",
       "      <td>360</td>\n",
       "      <td>0.015700</td>\n",
       "      <td>0.077119</td>\n",
       "      <td>0.984753</td>\n",
       "    </tr>\n",
       "    <tr>\n",
       "      <td>380</td>\n",
       "      <td>0.005100</td>\n",
       "      <td>0.073700</td>\n",
       "      <td>0.984753</td>\n",
       "    </tr>\n",
       "    <tr>\n",
       "      <td>400</td>\n",
       "      <td>0.009300</td>\n",
       "      <td>0.074455</td>\n",
       "      <td>0.983857</td>\n",
       "    </tr>\n",
       "    <tr>\n",
       "      <td>420</td>\n",
       "      <td>0.084600</td>\n",
       "      <td>0.075637</td>\n",
       "      <td>0.983857</td>\n",
       "    </tr>\n",
       "    <tr>\n",
       "      <td>440</td>\n",
       "      <td>0.003700</td>\n",
       "      <td>0.075403</td>\n",
       "      <td>0.984753</td>\n",
       "    </tr>\n",
       "    <tr>\n",
       "      <td>460</td>\n",
       "      <td>0.066800</td>\n",
       "      <td>0.075210</td>\n",
       "      <td>0.985650</td>\n",
       "    </tr>\n",
       "    <tr>\n",
       "      <td>480</td>\n",
       "      <td>0.069000</td>\n",
       "      <td>0.075834</td>\n",
       "      <td>0.983857</td>\n",
       "    </tr>\n",
       "    <tr>\n",
       "      <td>500</td>\n",
       "      <td>0.053700</td>\n",
       "      <td>0.075240</td>\n",
       "      <td>0.985650</td>\n",
       "    </tr>\n",
       "    <tr>\n",
       "      <td>520</td>\n",
       "      <td>0.045100</td>\n",
       "      <td>0.074594</td>\n",
       "      <td>0.985650</td>\n",
       "    </tr>\n",
       "    <tr>\n",
       "      <td>540</td>\n",
       "      <td>0.003500</td>\n",
       "      <td>0.074790</td>\n",
       "      <td>0.985650</td>\n",
       "    </tr>\n",
       "  </tbody>\n",
       "</table><p>"
      ],
      "text/plain": [
       "<IPython.core.display.HTML object>"
      ]
     },
     "metadata": {},
     "output_type": "display_data"
    },
    {
     "name": "stderr",
     "output_type": "stream",
     "text": [
      "2025/02/07 10:58:38 INFO mlflow.tracking._tracking_service.client: 🏃 View run angry-owl-353 at: https://mlflow.yellowday.day/#/experiments/1/runs/ca7c500de1a746d7a69225fa79f2808e.\n",
      "2025/02/07 10:58:38 INFO mlflow.tracking._tracking_service.client: 🧪 View experiment at: https://mlflow.yellowday.day/#/experiments/1.\n",
      "2025/02/07 10:58:39 INFO mlflow.system_metrics.system_metrics_monitor: Stopping system metrics monitoring...\n",
      "2025/02/07 10:58:39 INFO mlflow.system_metrics.system_metrics_monitor: Successfully terminated system metrics monitoring!\n"
     ]
    }
   ],
   "source": [
    "# Train the model\n",
    "import mlflow\n",
    "mlflow.set_tracking_uri(\"https://mlflow.yellowday.day\")\n",
    "mlflow.set_experiment(\"bert-classify-smsspam\")\n",
    "mlflow.enable_system_metrics_logging() # Logs CPU, RAM, GPU usage\n",
    "\n",
    "with mlflow.start_run():\n",
    "    trainer.train()"
   ]
  },
  {
   "cell_type": "code",
   "execution_count": 10,
   "id": "ef59b453",
   "metadata": {},
   "outputs": [
    {
     "data": {
      "text/html": [
       "\n",
       "    <div>\n",
       "      \n",
       "      <progress value='140' max='140' style='width:300px; height:20px; vertical-align: middle;'></progress>\n",
       "      [140/140 00:18]\n",
       "    </div>\n",
       "    "
      ],
      "text/plain": [
       "<IPython.core.display.HTML object>"
      ]
     },
     "metadata": {},
     "output_type": "display_data"
    },
    {
     "name": "stdout",
     "output_type": "stream",
     "text": [
      "Evaluation results: {'eval_loss': 0.0827006921172142, 'eval_accuracy': 0.9856502242152466, 'eval_runtime': 19.1159, 'eval_samples_per_second': 58.328, 'eval_steps_per_second': 7.324, 'epoch': 10.0}\n"
     ]
    }
   ],
   "source": [
    "# Evaluate the model\n",
    "eval_results = trainer.evaluate()\n",
    "print(f\"Evaluation results: {eval_results}\")"
   ]
  },
  {
   "cell_type": "code",
   "execution_count": 11,
   "id": "88012007",
   "metadata": {},
   "outputs": [
    {
     "name": "stdout",
     "output_type": "stream",
     "text": [
      "Model training and evaluation complete. Model saved to './final_model'.\n"
     ]
    }
   ],
   "source": [
    "# Save the model\n",
    "trainer.save_model('./final_model')\n",
    "tokenizer.save_pretrained('./final_model')\n",
    "\n",
    "print(\"Model training and evaluation complete. Model saved to './final_model'.\")"
   ]
  }
 ],
 "metadata": {
  "kernelspec": {
   "display_name": "nlp",
   "language": "python",
   "name": "nlp"
  },
  "language_info": {
   "codemirror_mode": {
    "name": "ipython",
    "version": 3
   },
   "file_extension": ".py",
   "mimetype": "text/x-python",
   "name": "python",
   "nbconvert_exporter": "python",
   "pygments_lexer": "ipython3",
   "version": "3.11.10"
  }
 },
 "nbformat": 4,
 "nbformat_minor": 5
}
