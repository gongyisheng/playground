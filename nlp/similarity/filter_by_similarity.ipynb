{
 "cells": [
  {
   "cell_type": "code",
   "execution_count": null,
   "metadata": {},
   "outputs": [],
   "source": [
    "import faiss\n",
    "import pandas as pd\n",
    "import random\n",
    "import tensorflow_hub as hub\n",
    "from tqdm import tqdm\n"
   ]
  },
  {
   "cell_type": "code",
   "execution_count": null,
   "metadata": {},
   "outputs": [],
   "source": [
    "# build faiss index\n",
    "d = 512\n",
    "nlist = 100\n",
    "m = 16\n",
    "n_bits = 8\n",
    "index = faiss.IndexIVFFlat(faiss.IndexFlatL2(d), d, nlist, faiss.METRIC_INNER_PRODUCT)\n",
    "embed = hub.load(\"https://tfhub.dev/google/universal-sentence-encoder/4\")\n",
    "\n",
    "def calc_vector(texts):\n",
    "    embeddings = embed(texts)\n",
    "    return embeddings.numpy()"
   ]
  },
  {
   "cell_type": "code",
   "execution_count": null,
   "metadata": {},
   "outputs": [],
   "source": [
    "df = pd.read_parquet(\"/data/yisheng/useless_classifier/neg_employee_related.parquet\").reset_index()\n",
    "raw_texts = df[\"item\"].tolist()"
   ]
  },
  {
   "cell_type": "code",
   "execution_count": null,
   "metadata": {},
   "outputs": [],
   "source": [
    "sample_texts = random.sample(raw_texts, min(100, len(raw_texts)))\n",
    "embeddings = calc_vector(sample_texts)\n",
    "index.train(embeddings)"
   ]
  },
  {
   "cell_type": "code",
   "execution_count": null,
   "metadata": {},
   "outputs": [],
   "source": [
    "skip_count = 0\n",
    "selected_index = []\n",
    "for i in tqdm(df.index):\n",
    "    match_str = df.loc[i, \"item\"]\n",
    "    embedding = calc_vector([match_str])\n",
    "    need_skip = False\n",
    "    if i != 0:\n",
    "        D, I = index.search(embedding, 5)\n",
    "        if D[0][0] > 0.98:\n",
    "            need_skip = True\n",
    "    if not need_skip:\n",
    "        index.add(embedding)\n",
    "        selected_index.append(i)\n",
    "    else:\n",
    "        skip_count += 1\n",
    "print(f\"skip_count={skip_count}\")"
   ]
  },
  {
   "cell_type": "code",
   "execution_count": null,
   "metadata": {},
   "outputs": [],
   "source": [
    "df_selected = df.loc[selected_index]\n",
    "print(f\"selected_count={len(df_selected)}\")"
   ]
  }
 ],
 "metadata": {
  "language_info": {
   "name": "python"
  }
 },
 "nbformat": 4,
 "nbformat_minor": 2
}
