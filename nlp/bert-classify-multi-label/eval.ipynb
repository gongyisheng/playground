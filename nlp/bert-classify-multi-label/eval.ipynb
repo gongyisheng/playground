{
 "cells": [
  {
   "cell_type": "code",
   "execution_count": null,
   "id": "42d7ede5-551a-4b03-8496-c9b47440c335",
   "metadata": {},
   "outputs": [],
   "source": [
    "from transformers import BertTokenizer, BertForSequenceClassification\n",
    "import torch"
   ]
  },
  {
   "cell_type": "code",
   "execution_count": null,
   "id": "898ecc8f-0f2b-4f29-99e1-e216cefe7024",
   "metadata": {},
   "outputs": [],
   "source": [
    "# Load the tokenizer and model\n",
    "tokenizer_name = \"bert-base-uncased\"\n",
    "model_name = \"/media/hdddisk/bert-classify-smsspam-data/results/checkpoint-5580\"  # or your specific model name\n",
    "tokenizer = BertTokenizer.from_pretrained(tokenizer_name)\n",
    "model = BertForSequenceClassification.from_pretrained(model_name)\n",
    "model.eval()  # Put the model in evaluation mode"
   ]
  },
  {
   "cell_type": "code",
   "execution_count": null,
   "id": "7b19918d-5788-4aa4-a1e2-c653ae56ac2e",
   "metadata": {},
   "outputs": [],
   "source": [
    "texts = [\n",
    "    \"Your input text here\",\n",
    "    \"Some texts\",\n",
    "    \"Great news! You're selected\"\n",
    "]\n",
    "inputs = tokenizer(texts, return_tensors='pt', padding=True, truncation=True)"
   ]
  },
  {
   "cell_type": "code",
   "execution_count": null,
   "id": "90c45c57-d723-40d7-8a3b-d5b84f7decf2",
   "metadata": {},
   "outputs": [],
   "source": [
    "with torch.no_grad():  # Disable gradients for inference\n",
    "   outputs = model(**inputs)\n",
    "   logits = outputs.logits  # Get the logits (raw scores before activation)"
   ]
  },
  {
   "cell_type": "code",
   "execution_count": null,
   "id": "199e3a13-4218-4ff4-b109-a5c300a8e911",
   "metadata": {},
   "outputs": [],
   "source": [
    "prob = torch.softmax(logits, dim=1)  # Apply softmax along the class dimension\n",
    "\n",
    "probs_pos = prob[:, 1].tolist()  # Probability of label 1\n",
    "probs_neg = prob[:, 0].tolist()  # Probability of label 0\n",
    "\n",
    "for i, text in enumerate(texts):\n",
    "    print(f\"Text: {text}\")\n",
    "    print(f\"Probability of label 1: {probs_pos[i]}\")\n",
    "    print(f\"Probability of label 0: {probs_neg[i]}\")\n",
    "    print(\"---\")"
   ]
  }
 ],
 "metadata": {
  "kernelspec": {
   "display_name": "nlp",
   "language": "python",
   "name": "nlp"
  },
  "language_info": {
   "codemirror_mode": {
    "name": "ipython",
    "version": 3
   },
   "file_extension": ".py",
   "mimetype": "text/x-python",
   "name": "python",
   "nbconvert_exporter": "python",
   "pygments_lexer": "ipython3",
   "version": "3.11.10"
  }
 },
 "nbformat": 4,
 "nbformat_minor": 5
}
