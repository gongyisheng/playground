{
 "cells": [
  {
   "cell_type": "code",
   "execution_count": 5,
   "metadata": {},
   "outputs": [],
   "source": [
    "import sqlite3\n",
    "DB_CONN = sqlite3.connect('test.db')\n",
    "DB_CONN = sqlite3.connect('prompt.db')\n",
    "\n",
    "def execute_sql(sql):\n",
    "    cursor = DB_CONN.cursor()\n",
    "    cursor.execute(sql)\n",
    "    result = cursor.fetchall()\n",
    "    DB_CONN.commit()\n",
    "    cursor.close()\n",
    "    return result"
   ]
  },
  {
   "cell_type": "code",
   "execution_count": 8,
   "metadata": {},
   "outputs": [
    {
     "data": {
      "text/plain": [
       "[('fds', '2', 'fadf'),\n",
       " ('dassda', '1', 'dsads'),\n",
       " ('dsadsa', '1', 'dsada'),\n",
       " ('dsadsa', '3', 'dsadadsa')]"
      ]
     },
     "execution_count": 8,
     "metadata": {},
     "output_type": "execute_result"
    }
   ],
   "source": [
    "execute_sql(\"SELECT name, version, system_message FROM saved_prompt\")"
   ]
  }
 ],
 "metadata": {
  "kernelspec": {
   "display_name": "Python 3",
   "language": "python",
   "name": "python3"
  },
  "language_info": {
   "codemirror_mode": {
    "name": "ipython",
    "version": 3
   },
   "file_extension": ".py",
   "mimetype": "text/x-python",
   "name": "python",
   "nbconvert_exporter": "python",
   "pygments_lexer": "ipython3",
   "version": "3.9.17"
  }
 },
 "nbformat": 4,
 "nbformat_minor": 2
}
